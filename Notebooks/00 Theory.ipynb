{
 "cells": [
  {
   "cell_type": "markdown",
   "id": "88d50b7a",
   "metadata": {},
   "source": [
    "# **Theory**"
   ]
  },
  {
   "cell_type": "markdown",
   "id": "6a9a6d2b",
   "metadata": {},
   "source": [
    "## SQL Query Order of Execution\n",
    "\n"
   ]
  },
  {
   "cell_type": "markdown",
   "id": "8ac00f3d",
   "metadata": {
    "vscode": {
     "languageId": "plaintext"
    }
   },
   "source": [
    "- `FROM` \t\tfirst SQL will access the table from which data should be grabbed\n",
    "- `JOIN` \t\tthen SQL will access other tables that are joined with the initial table\n",
    "- `WHERE` \t\tthen SQL will apply a filter on the data in the (joined) table\n",
    "- `GROUP BY` \tnext SQL will group the data in the (joined) table if applicable\n",
    "- `HAVING` \tthen SQL will apply a filter on the grouped data in the (joined) table\n",
    "- [...]\t\tWindow Functions\n",
    "- `SELECT` \tthen SQL will look at which columns from the table the user has requested\n",
    "- `DISTINCT`\t the select operation will return a column, from which the unique values can be extracted\n",
    "- `UNION`\t\tthen SQL can combine the resulting columns with other tables using set operations\n",
    "- `ORDER BY` \tthen SQL will sort the values in the resulting table\n",
    "- `OFFSET`\t\tthen SQL will ignore a set of values in the resulting table\n",
    "- `LIMIT / TOP` \tfinally SQL will output part of the table"
   ]
  },
  {
   "cell_type": "markdown",
   "id": "0196eaf3",
   "metadata": {},
   "source": [
    "## Types of SQL Commands"
   ]
  },
  {
   "attachments": {
    "new.png": {
     "image/png": "[encoded data removed]"
    }
   },
   "cell_type": "markdown",
   "id": "a29b5b0a",
   "metadata": {},
   "source": [
    "![new.png](attachment:new.png)"
   ]
  },
  {
   "cell_type": "markdown",
   "id": "f89fc1af",
   "metadata": {},
   "source": [
    "### DDL - Data Definition Language"
   ]
  },
  {
   "cell_type": "markdown",
   "id": "9ca54b81",
   "metadata": {},
   "source": [
    "SQL commands used for defining/altering/deleting database structures (e.g. tables, views, indexes, schemas, fileformat, etc.)\n",
    "\n",
    "| command | Description | Syntax |\n",
    "|--|--|--|\n",
    "|`CREATE`|\tCreate database or its objects (table, index, function, views, store procedure, and triggers) |\t`CREATE TABLE table_name (column1 data_type, column2 data_type, ...);`|\n",
    "|`DROP`|\tDelete objects from the database\t| `DROP TABLE table_name`;|\n",
    "|`ALTER`|\tAlter the structure of the database\t| `ALTER TABLE table_name ADD COLUMN column_name data_type`;|\n",
    "|`TRUNCATE`|\tRemove all records from a table, including all spaces allocated for the records are removed\t|`TRUNCATE TABLE table_name`;|\n",
    "|`COMMENT`|\tAdd comments to the data dictionary\t|`COMMENT 'comment_text' ON TABLE table_name`;|\n",
    "|`RENAME`|\tRename an object existing in the database\t|`RENAME TABLE old_table_name TO new_table_name`;|\n"
   ]
  },
  {
   "cell_type": "markdown",
   "id": "efebc121",
   "metadata": {},
   "source": [
    "### DQL - Data Query Language\n"
   ]
  },
  {
   "cell_type": "markdown",
   "id": "a7112832",
   "metadata": {},
   "source": [
    "SQL commands to retrieve data from database\n",
    "\n",
    "|Command\t| Description\t|Syntax|\n",
    "|--|--|--|\n",
    "|`SELECT` | It is used to retrieve data from the database| `SELECT column1, column2, ...FROM table_name WHERE condition` ;|"
   ]
  },
  {
   "cell_type": "markdown",
   "id": "febeaf3c",
   "metadata": {},
   "source": [
    "### DML - Data Manipulation Language\n",
    "\n",
    "Change existing data in database objects (tables, views)\n",
    "\n",
    "|Command |Description |Syntax|",
    "|--|--|--|\n",
    "|`INSERT` |\tInsert data into a table\t|`INSERT INTO table_name (column1, column2, ...) VALUES (value1, value2, ...);`|\n",
    "|`UPDATE` |\tUpdate existing data within a table\t|`UPDATE table_name SET column1 = value1, column2 = value2 WHERE condition;`|\n",
    "|`DELETE` |\tDelete records from a database table\t|`DELETE FROM table_name WHERE condition;`|\n",
    "|`LOCK` |\tTable control concurrency\t|`LOCK TABLE table_name IN lock_mode;`|\n",
    "|`CALL` |\tCall a PL/SQL or JAVA subprogram\t|`CALL procedure_name(arguments);`|\n",
    "|`EXPLAIN PLAN` |\tDescribe the access path to data\t|`EXPLAIN PLAN FOR SELECT * FROM table_name;`|"
   ]
  },
  {
   "cell_type": "markdown",
   "id": "624ff354",
   "metadata": {},
   "source": [
    "### DCL - Data Control Language\n"
   ]
  },
  {
   "cell_type": "markdown",
   "id": "46414a11",
   "metadata": {},
   "source": [
    "SQL commands to manage rights & permissions of the database. \n",
    "\n",
    "|Command|\tDescription|\tSyntax|\n",
    "|--|--|--|\n",
    "|`GRANT`\t|Assigns new privileges to a user account, allowing access to specific database objects, actions, or functions.\t|`GRANT privilege_type [(column_list)] ON [object_type] object_name TO user [WITH GRANT OPTION];`|\n",
    "|`REVOKE`|\tRemoves previously granted privileges from a user account, taking away their access to certain database objects or actions.\t|`REVOKE [GRANT OPTION FOR] privilege_type [(column_list)] ON [object_type] object_name FROM user [CASCADE];`|"
   ]
  },
  {
   "cell_type": "markdown",
   "id": "6a90e5fe",
   "metadata": {},
   "source": [
    "### TCL - Transaction Control Language"
   ]
  },
  {
   "cell_type": "markdown",
   "id": "79ff3446",
   "metadata": {},
   "source": [
    "SQL commands that deal with database transactions. \n",
    "\n",
    "Each transaction is a set of tasks grouped together into an execution unit. Either all the tasks are completed succesfully, or the transaction fails and nothing happens to the database. \n",
    "\n",
    "|Command|\tDescription|\tSyntax|\n",
    "|--|--|--|\n",
    "|`BEGIN TRANSACTION`\t|Starts a new transaction\t| `BEGIN TRANSACTION [transaction_name];`|\n",
    "|`COMMIT`|\tSaves all changes made during the transaction|\t`COMMIT;`|\n",
    "|`ROLLBACK`|\tUndoes all changes made during the transaction|\t`ROLLBACK;`|\n",
    "|`SAVEPOINT`|\tCreates a savepoint within the current transaction\t|`SAVEPOINT savepoint_name;`|"
   ]
  },
  {
   "cell_type": "markdown",
   "id": "c32cb463",
   "metadata": {},
   "source": []
  }
 ],
 "metadata": {
  "language_info": {
   "name": "python"
  }
 },
 "nbformat": 4,
 "nbformat_minor": 5
}
